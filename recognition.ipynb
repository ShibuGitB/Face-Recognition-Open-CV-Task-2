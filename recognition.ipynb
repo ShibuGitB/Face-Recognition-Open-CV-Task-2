{
 "cells": [
  {
   "cell_type": "code",
   "execution_count": 1,
   "metadata": {},
   "outputs": [],
   "source": [
    "import cv2 "
   ]
  },
  {
   "cell_type": "code",
   "execution_count": 2,
   "metadata": {},
   "outputs": [],
   "source": [
    "def name_map (x) : \n",
    "    \n",
    "    if x==\"messi\" : \n",
    "        \n",
    "        return 0 \n",
    "    \n",
    "    if x==\"obama\" : \n",
    "        \n",
    "        return 1 \n",
    "    \n",
    "    if x==\"sachin\" : \n",
    "        \n",
    "        return 2 "
   ]
  },
  {
   "cell_type": "code",
   "execution_count": 3,
   "metadata": {},
   "outputs": [],
   "source": [
    "def get_name (x) : \n",
    "    \n",
    "    if x==0 : \n",
    "        \n",
    "        return \"messi\"\n",
    "    \n",
    "    if x==1 : \n",
    "        \n",
    "        return \"obama\" \n",
    "    \n",
    "    if x==2 : \n",
    "        \n",
    "        return \"sachin\" "
   ]
  },
  {
   "cell_type": "code",
   "execution_count": 4,
   "metadata": {},
   "outputs": [],
   "source": [
    "def detect_face (img) : \n",
    "    fdm=cv2.CascadeClassifier(r\"C:\\Users\\shibu\\OneDrive\\Documents\\Deep learning projects\\face recognization\\haarcascade_frontalface_default.xml\") \n",
    "    gray=cv2.cvtColor(img,cv2.COLOR_BGR2GRAY) \n",
    "    faces=fdm.detectMultiScale(gray,minNeighbors=7) \n",
    "    if len(faces)==0 : \n",
    "        \n",
    "        return None,None \n",
    "    x,y,w,h=faces[0] \n",
    "    \n",
    "    return gray[x:x+w,y:y+h],faces[0]  "
   ]
  },
  {
   "cell_type": "code",
   "execution_count": 5,
   "metadata": {},
   "outputs": [],
   "source": [
    "import os \n",
    "\n",
    "def prepare_training_data(data_folder) : \n",
    "    \n",
    "    folders=os.listdir(data_folder) \n",
    "    faces=[] \n",
    "    labels=[] \n",
    "    for i in folders : \n",
    "        \n",
    "        folderpath=os.path.join(data_folder,i) \n",
    "        folderimgs=os.listdir(folderpath) \n",
    "        \n",
    "        for j in folderimgs : \n",
    "            \n",
    "            imgpath=os.path.join(folderpath,j) \n",
    "            images=cv2.imread(imgpath) \n",
    "            # cv2.imshow(\"image\",images) \n",
    "            # cv2.waitKey(500)\n",
    "            \n",
    "            face,rect=detect_face (images) \n",
    "            \n",
    "            if face is not None : \n",
    "                \n",
    "                faces.append(face) \n",
    "                labels.append(name_map (i))  \n",
    "    \n",
    "    # cv2.waitKey(1) \n",
    "    # cv2.destroyAllWindows() \n",
    "    return faces,labels \n",
    "    \n",
    "faces,labels=prepare_training_data(r\"C:\\Users\\shibu\\OneDrive\\Documents\\Deep learning projects\\face recognization\\db\")"
   ]
  },
  {
   "cell_type": "code",
   "execution_count": 6,
   "metadata": {},
   "outputs": [
    {
     "name": "stdout",
     "output_type": "stream",
     "text": [
      "28\n",
      "28\n"
     ]
    }
   ],
   "source": [
    "print (len(faces)) \n",
    "print (len(labels)) "
   ]
  },
  {
   "cell_type": "code",
   "execution_count": 7,
   "metadata": {},
   "outputs": [
    {
     "data": {
      "text/plain": [
       "< cv2.face.LBPHFaceRecognizer 00000221B9629BF0>"
      ]
     },
     "execution_count": 7,
     "metadata": {},
     "output_type": "execute_result"
    }
   ],
   "source": [
    "recogonizer=cv2.face.LBPHFaceRecognizer_create() \n",
    "recogonizer "
   ]
  },
  {
   "cell_type": "code",
   "execution_count": 8,
   "metadata": {},
   "outputs": [],
   "source": [
    "import numpy as np \n",
    "\n",
    "labels=np.array(labels) "
   ]
  },
  {
   "cell_type": "code",
   "execution_count": 9,
   "metadata": {},
   "outputs": [],
   "source": [
    "recogonizer.train(faces,labels)"
   ]
  },
  {
   "cell_type": "code",
   "execution_count": 10,
   "metadata": {},
   "outputs": [],
   "source": [
    "imgp=cv2.imread(r\"C:\\Users\\shibu\\OneDrive\\Documents\\Deep learning projects\\face recognization\\db\\obama\\07.jpg\") "
   ]
  },
  {
   "cell_type": "code",
   "execution_count": 11,
   "metadata": {},
   "outputs": [],
   "source": [
    "face,rect2=detect_face(imgp) "
   ]
  },
  {
   "cell_type": "code",
   "execution_count": 12,
   "metadata": {},
   "outputs": [
    {
     "data": {
      "text/plain": [
       "(1, 0.0)"
      ]
     },
     "execution_count": 12,
     "metadata": {},
     "output_type": "execute_result"
    }
   ],
   "source": [
    "prediction=recogonizer.predict(face) \n",
    "prediction "
   ]
  },
  {
   "cell_type": "code",
   "execution_count": 13,
   "metadata": {},
   "outputs": [],
   "source": [
    "# prediction=get_name(prediction[0]) \n",
    "# prediction"
   ]
  },
  {
   "cell_type": "code",
   "execution_count": 14,
   "metadata": {},
   "outputs": [],
   "source": [
    "def rectangle (img) : \n",
    "    \n",
    "    x,y,w,h=rect2 \n",
    "    cv2.rectangle(img,(x,y),(x+w,y+h),color=(0,0,0),thickness=4) "
   ]
  },
  {
   "cell_type": "code",
   "execution_count": 15,
   "metadata": {},
   "outputs": [],
   "source": [
    "def text (img,text2) : \n",
    "    \n",
    "    x,y,w,h=rect2 \n",
    "    cv2.putText(img,text=text2,org=(x,y),fontFace=cv2.FONT_HERSHEY_COMPLEX,fontScale=1,color=(255,255,255),thickness=4)"
   ]
  },
  {
   "cell_type": "code",
   "execution_count": 17,
   "metadata": {},
   "outputs": [],
   "source": [
    "def predictionimage (img) : \n",
    "    \n",
    "    text2=get_name(prediction[0]) \n",
    "    rectangle(img) \n",
    "    text(img,text2) \n",
    "    \n",
    "    cv2.imshow(\"image\",img) \n",
    "    cv2.waitKey() \n",
    "    cv2.destroyAllWindows() \n",
    "    \n",
    "predictionimage (imgp) "
   ]
  }
 ],
 "metadata": {
  "kernelspec": {
   "display_name": "Python 3",
   "language": "python",
   "name": "python3"
  },
  "language_info": {
   "codemirror_mode": {
    "name": "ipython",
    "version": 3
   },
   "file_extension": ".py",
   "mimetype": "text/x-python",
   "name": "python",
   "nbconvert_exporter": "python",
   "pygments_lexer": "ipython3",
   "version": "3.11.8"
  }
 },
 "nbformat": 4,
 "nbformat_minor": 2
}
