{
 "cells": [
  {
   "cell_type": "code",
   "execution_count": 1,
   "metadata": {},
   "outputs": [],
   "source": [
    "import face_recognition \n",
    "import os \n",
    "import cv2 \n",
    "import numpy as np"
   ]
  },
  {
   "cell_type": "code",
   "execution_count": 2,
   "metadata": {},
   "outputs": [],
   "source": [
    "path=r\"C:\\Users\\shibu\\OneDrive\\Documents\\Deep learning projects\\face recognization\\images\""
   ]
  },
  {
   "cell_type": "code",
   "execution_count": 3,
   "metadata": {},
   "outputs": [],
   "source": [
    "img=os.listdir(path)"
   ]
  },
  {
   "cell_type": "code",
   "execution_count": 4,
   "metadata": {},
   "outputs": [
    {
     "name": "stdout",
     "output_type": "stream",
     "text": [
      "['bilal.jpg', 'leo.jpg', 'stephen.jpg']\n"
     ]
    }
   ],
   "source": [
    "print (img)"
   ]
  },
  {
   "cell_type": "code",
   "execution_count": 5,
   "metadata": {},
   "outputs": [],
   "source": [
    "images=[] \n",
    "classes=[] "
   ]
  },
  {
   "cell_type": "code",
   "execution_count": 6,
   "metadata": {},
   "outputs": [],
   "source": [
    "for i in img : \n",
    "    \n",
    "    imgpath=os.path.join(path,i) \n",
    "    imgread=cv2.imread(imgpath) \n",
    "    images.append(imgread) \n",
    "    classes.append(i[:-4]) "
   ]
  },
  {
   "cell_type": "code",
   "execution_count": 7,
   "metadata": {},
   "outputs": [
    {
     "name": "stdout",
     "output_type": "stream",
     "text": [
      "['bilal', 'leo', 'stephen']\n"
     ]
    }
   ],
   "source": [
    "print (classes)"
   ]
  },
  {
   "cell_type": "code",
   "execution_count": 8,
   "metadata": {},
   "outputs": [],
   "source": [
    "def face_encoding (images) : \n",
    "    \n",
    "    encodedlist=[] \n",
    "    \n",
    "    for i in images : \n",
    "        \n",
    "        rgb=cv2.cvtColor(i,cv2.COLOR_BGR2RGB) \n",
    "        face=face_recognition.face_locations(rgb) \n",
    "        faceencode=face_recognition.face_encodings(rgb,face)[0]\n",
    "        encodedlist.append(faceencode) \n",
    "        \n",
    "    return encodedlist \n",
    "\n",
    "faceencodings=face_encoding (images) "
   ]
  },
  {
   "cell_type": "code",
   "execution_count": 10,
   "metadata": {},
   "outputs": [],
   "source": [
    "video=cv2.VideoCapture(0) \n",
    "\n",
    "while True : \n",
    "    \n",
    "    sucess,frame=video.read() \n",
    "    rgb=cv2.cvtColor(frame,cv2.COLOR_BGR2RGB) \n",
    "    rgbface=face_recognition.face_locations(rgb) \n",
    "    rgbfaceeencode=face_recognition.face_encodings(rgb,rgbface) \n",
    "    \n",
    "    for encodedface,faces in zip(rgbfaceeencode,rgbface) : \n",
    "        \n",
    "        match=face_recognition.compare_faces(faceencodings,encodedface) \n",
    "    # print (match) \n",
    "        distance=face_recognition.face_distance(faceencodings,encodedface) \n",
    "    # print (distance) \n",
    "    \n",
    "        faceoutput=np.argmin(distance) \n",
    "    \n",
    "        if match[faceoutput] : \n",
    "            \n",
    "            print (classes[faceoutput]) \n",
    "            \n",
    "        y,w,h,x=faces \n",
    "        \n",
    "        cv2.rectangle(frame,(x,y),(x+w,y+h),(255,255,255),4) \n",
    "        cv2.putText(frame,text=classes[faceoutput],org=(x,y),fontFace=cv2.FONT_HERSHEY_COMPLEX,fontScale=1,color=(255,255,255),thickness=4) \n",
    "        \n",
    "    cv2.imshow(\"recognition\",frame) \n",
    "    \n",
    "    if cv2.waitKey(1) & 0XFF==ord(\"q\") : \n",
    "        \n",
    "        break \n",
    "    \n",
    "video.release() \n",
    "cv2.destroyAllWindows() "
   ]
  }
 ],
 "metadata": {
  "kernelspec": {
   "display_name": "Python 3",
   "language": "python",
   "name": "python3"
  },
  "language_info": {
   "codemirror_mode": {
    "name": "ipython",
    "version": 3
   },
   "file_extension": ".py",
   "mimetype": "text/x-python",
   "name": "python",
   "nbconvert_exporter": "python",
   "pygments_lexer": "ipython3",
   "version": "3.11.8"
  }
 },
 "nbformat": 4,
 "nbformat_minor": 2
}
