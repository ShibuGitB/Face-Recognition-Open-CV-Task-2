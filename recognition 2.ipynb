{
 "cells": [
  {
   "cell_type": "code",
   "execution_count": 1,
   "metadata": {},
   "outputs": [],
   "source": [
    "import face_recognition \n",
    "import os \n",
    "import cv2 \n",
    "import numpy as np"
   ]
  },
  {
   "cell_type": "code",
   "execution_count": 2,
   "metadata": {},
   "outputs": [
    {
     "data": {
      "text/plain": [
       "['bilal.jpg', 'leo.jpg', 'stephen.jpg']"
      ]
     },
     "execution_count": 2,
     "metadata": {},
     "output_type": "execute_result"
    }
   ],
   "source": [
    "path=r\"C:\\Users\\shibu\\OneDrive\\Documents\\Deep learning projects\\face recognization\\images\"\n",
    "img=os.listdir(path) \n",
    "img"
   ]
  },
  {
   "cell_type": "code",
   "execution_count": 3,
   "metadata": {},
   "outputs": [],
   "source": [
    "images=[] \n",
    "classes=[]"
   ]
  },
  {
   "cell_type": "code",
   "execution_count": 4,
   "metadata": {},
   "outputs": [],
   "source": [
    "for i in img : \n",
    "    \n",
    "    imgpath=os.path.join(path,i) \n",
    "    imgread=cv2.imread(imgpath) \n",
    "    images.append(imgread) \n",
    "    classes.append(i[:-4]) "
   ]
  },
  {
   "cell_type": "code",
   "execution_count": 5,
   "metadata": {},
   "outputs": [],
   "source": [
    "# print (images)\n",
    "# print (classes)"
   ]
  },
  {
   "cell_type": "code",
   "execution_count": 6,
   "metadata": {},
   "outputs": [],
   "source": [
    "# rgb=cv2.cvtColor(images[0],cv2.COLOR_BGR2RGB) \n",
    "# face=face_recognition.face_locations(rgb) \n",
    "# encode=face_recognition.face_encodings(rgb,face)[0]"
   ]
  },
  {
   "cell_type": "code",
   "execution_count": 7,
   "metadata": {},
   "outputs": [],
   "source": [
    "def encoding (images) : \n",
    "    \n",
    "    encodedlist=[] \n",
    "    \n",
    "    for i in images : \n",
    "        \n",
    "        rgb=cv2.cvtColor(i,cv2.COLOR_BGR2RGB) \n",
    "        face=face_recognition.face_locations(rgb) \n",
    "        encodface=face_recognition.face_encodings(rgb,face)[0]\n",
    "        encodedlist.append(encodface) \n",
    "        \n",
    "    return encodedlist"
   ]
  },
  {
   "cell_type": "code",
   "execution_count": 8,
   "metadata": {},
   "outputs": [],
   "source": [
    "encodedknownfaces=encoding (images)"
   ]
  },
  {
   "cell_type": "code",
   "execution_count": 9,
   "metadata": {},
   "outputs": [
    {
     "name": "stdout",
     "output_type": "stream",
     "text": [
      "bilal\n",
      "bilal\n",
      "bilal\n"
     ]
    }
   ],
   "source": [
    "video=cv2.VideoCapture(0) \n",
    "\n",
    "while True : \n",
    "    \n",
    "    sucess,frame=video.read() \n",
    "    # rgb=cv2.cvtColor(frame,cv2.COLOR_BGR2RGB)\n",
    "    face2=face_recognition.face_locations(frame) \n",
    "    encodedface2=face_recognition.face_encodings(frame,face2) \n",
    "    \n",
    "    for encodface,face3 in zip(encodedface2,face2) : \n",
    "        \n",
    "        matches=face_recognition.compare_faces(encodedknownfaces,encodface)  \n",
    "        # print (matches)\n",
    "        face_distance=face_recognition.face_distance(encodedknownfaces,encodface) \n",
    "        # print (face_distance)\n",
    "        face_distance_2=np.argmin(face_distance) \n",
    "        \n",
    "        if matches[face_distance_2] : \n",
    "            \n",
    "            print (classes[face_distance_2]) \n",
    "            \n",
    "        y,w,h,x=face3 \n",
    "        \n",
    "        cv2.rectangle(frame,(x,y),(x+w,y+h),(255,255,255),4) \n",
    "        cv2.putText(frame,text=classes[face_distance_2],org=(x,y),fontFace=cv2.FONT_HERSHEY_COMPLEX,fontScale=1,color=(255,255,255),thickness=4)\n",
    "    \n",
    "    cv2.imshow(\"video\",frame) \n",
    "    if cv2.waitKey(1) & 0XFF==ord(\"q\") :  \n",
    "        \n",
    "        break \n",
    "    \n",
    "video.release() \n",
    "cv2.destroyAllWindows() "
   ]
  }
 ],
 "metadata": {
  "kernelspec": {
   "display_name": "Python 3",
   "language": "python",
   "name": "python3"
  },
  "language_info": {
   "codemirror_mode": {
    "name": "ipython",
    "version": 3
   },
   "file_extension": ".py",
   "mimetype": "text/x-python",
   "name": "python",
   "nbconvert_exporter": "python",
   "pygments_lexer": "ipython3",
   "version": "3.11.8"
  }
 },
 "nbformat": 4,
 "nbformat_minor": 2
}
